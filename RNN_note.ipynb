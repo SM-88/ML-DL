{
 "cells": [
  {
   "cell_type": "markdown",
   "metadata": {},
   "source": [
    "# RNN"
   ]
  },
  {
   "cell_type": "code",
   "execution_count": 1,
   "metadata": {},
   "outputs": [],
   "source": [
    "import tensorflow as tf\n",
    "from tensorflow.keras import Model, layers\n",
    "import numpy as np\n",
    "from matplotlib import pyplot as plt\n",
    "import random\n",
    "\n",
    "random.seed(1)\n",
    "np.random.seed(1)\n",
    "tf.random.set_seed(1)"
   ]
  },
  {
   "cell_type": "markdown",
   "metadata": {},
   "source": [
    "### Data Processing"
   ]
  },
  {
   "cell_type": "code",
   "execution_count": 2,
   "metadata": {},
   "outputs": [],
   "source": [
    "top_words = 10000\n",
    "\n",
    "(x_trainval, y_trainval), (x_test, y_test) = tf.keras.datasets.imdb.load_data(num_words=top_words)\n",
    "# print(x_trainval.shape)\n",
    "# print(y_trainval.shape)\n",
    "# print(x_test.shape)\n",
    "# print(y_test.shape)"
   ]
  },
  {
   "cell_type": "code",
   "execution_count": 3,
   "metadata": {},
   "outputs": [],
   "source": [
    "# print(x_trainval)\n",
    "# print(y_trainval)"
   ]
  },
  {
   "cell_type": "code",
   "execution_count": 4,
   "metadata": {},
   "outputs": [],
   "source": [
    "# wi = tf.keras.datasets.imdb.get_word_index()\n",
    "# print(wi)"
   ]
  },
  {
   "cell_type": "code",
   "execution_count": 5,
   "metadata": {},
   "outputs": [],
   "source": [
    "num_classes = 2\n",
    "\n",
    "x_trainval_long = tf.keras.preprocessing.sequence.pad_sequences(x_trainval, maxlen=160)\n",
    "x_trainval = tf.keras.preprocessing.sequence.pad_sequences(x_trainval, maxlen=80)\n",
    "x_test_short = tf.keras.preprocessing.sequence.pad_sequences(x_test, maxlen=40)\n",
    "x_test_long = tf.keras.preprocessing.sequence.pad_sequences(x_test, maxlen=160)\n",
    "x_test = tf.keras.preprocessing.sequence.pad_sequences(x_test, maxlen=80)\n",
    "\n",
    "# print(x_trainval_long.shape)\n",
    "# print(x_trainval.shape)\n",
    "# print(x_test.shape)\n",
    "# print(x_test_short.shape)\n",
    "# print(x_test_long.shape)\n",
    "# print(x_trainval)"
   ]
  },
  {
   "cell_type": "code",
   "execution_count": 6,
   "metadata": {},
   "outputs": [],
   "source": [
    "x_trainval_long = x_trainval_long.astype(\"float32\")\n",
    "x_trainval = x_trainval.astype(\"float32\")\n",
    "x_test = x_test.astype(\"float32\")\n",
    "x_test_short = x_test_short.astype(\"float32\")\n",
    "x_test_long = x_test_long.astype(\"float32\")\n",
    "y_trainval = y_trainval.astype(\"float32\")\n",
    "y_test = y_test.astype(\"float32\")\n",
    "\n",
    "indices = np.random.permutation(x_trainval.shape[0])\n",
    "train_indices = indices[:-5000]\n",
    "val_indices = indices[-5000:]\n",
    "x_train = x_trainval[train_indices]\n",
    "y_train = y_trainval[train_indices]\n",
    "x_val = x_trainval[val_indices]\n",
    "y_val = y_trainval[val_indices]\n",
    "\n",
    "x_train_long = x_trainval_long[train_indices]\n",
    "x_val_long = x_trainval_long[val_indices]"
   ]
  },
  {
   "cell_type": "code",
   "execution_count": 7,
   "metadata": {},
   "outputs": [],
   "source": [
    "batch_size=200\n",
    "\n",
    "train_data = tf.data.Dataset.from_tensor_slices((x_train, y_train))\n",
    "train_data = train_data.shuffle(20000).batch(batch_size).prefetch(1)\n",
    "train_data_long = tf.data.Dataset.from_tensor_slices((x_train_long, y_train))\n",
    "train_data_long = train_data_long.shuffle(20000).batch(batch_size).prefetch(1)\n",
    "\n",
    "val_data = tf.data.Dataset.from_tensor_slices((x_val, y_val))\n",
    "val_data = val_data.shuffle(5000).batch(batch_size).prefetch(1)\n",
    "val_data_long = tf.data.Dataset.from_tensor_slices((x_val_long, y_val))\n",
    "val_data_long = val_data_long.shuffle(5000).batch(batch_size).prefetch(1)\n",
    "\n",
    "test_data = tf.data.Dataset.from_tensor_slices((x_test, y_test))\n",
    "test_data = test_data.shuffle(25000).batch(batch_size).prefetch(1)\n",
    "test_data_long = tf.data.Dataset.from_tensor_slices((x_test_long, y_test))\n",
    "test_data_long = test_data_long.shuffle(25000).batch(batch_size).prefetch(1)\n",
    "test_data_short = tf.data.Dataset.from_tensor_slices((x_test_short, y_test))\n",
    "test_data_short = test_data_short.shuffle(25000).batch(batch_size).prefetch(1)"
   ]
  },
  {
   "cell_type": "markdown",
   "metadata": {},
   "source": [
    "### Define functions for training/testing"
   ]
  },
  {
   "cell_type": "code",
   "execution_count": 8,
   "metadata": {},
   "outputs": [],
   "source": [
    "def cross_entropy_loss(x,y):\n",
    "    y = tf.cast(y, tf.int64)\n",
    "    loss = tf.nn.sparse_softmax_cross_entropy_with_logits(labels=y, logits=x)\n",
    "    return tf.reduce_mean(loss)\n",
    "    \n",
    "def accuracy(y_pred, y_true):\n",
    "    correct_prediction = tf.equal(tf.argmax(y_pred, 1), tf.cast(y_true, tf.int64))\n",
    "    return tf.reduce_mean(tf.cast(correct_prediction, tf.float32))\n",
    "\n",
    "def Train_model(model, train_data, optimizer, epo, print_loss = True, plot_graph = True):\n",
    "    step_l = []\n",
    "    loss_l = []\n",
    "    \n",
    "    for epoch in range(0, epo):\n",
    "        \n",
    "        running_loss = 0.0\n",
    "        for step, (batch_x, batch_y) in enumerate(train_data, 1):\n",
    "            with tf.GradientTape() as g:\n",
    "                pred = model(batch_x, is_training=True)\n",
    "                loss = cross_entropy_loss(pred, batch_y)\n",
    "                \n",
    "            trainable_variables = model.trainable_variables\n",
    "            gradients = g.gradient(loss, trainable_variables)\n",
    "            optimizer.apply_gradients(zip(gradients, trainable_variables))\n",
    "            \n",
    "            running_loss += loss.numpy()\n",
    "            if plot_graph:\n",
    "                if step % 10 == 0:\n",
    "                    step_l.append(epoch*250 + step)\n",
    "                    loss_l.append(running_loss/10)\n",
    "                    running_loss=0.0\n",
    "        if print_loss:\n",
    "            print(\"epoch : \", epoch+1, \"loss: \", loss.numpy())\n",
    "            \n",
    "    if plot_graph:\n",
    "        plt.plot(step_l, loss_l)\n",
    "    return model\n",
    "\n",
    "def accuracy_batch(model, test_data):\n",
    "    acc = 0.\n",
    "    for step, (batch_x, batch_y) in enumerate(test_data, 1):\n",
    "        pred = model(batch_x, is_training=False)\n",
    "        acc += accuracy(pred, batch_y)\n",
    "    acc = acc/step * 100.\n",
    "    return acc"
   ]
  },
  {
   "cell_type": "code",
   "execution_count": 9,
   "metadata": {},
   "outputs": [],
   "source": [
    "import sys\n",
    "import copy\n",
    "\n",
    "def early_stopping(model, train_data, val_data, optimizer):\n",
    "    el = []\n",
    "    vll = []\n",
    "    \n",
    "    p = 4\n",
    "    i = 0 \n",
    "    j = 0\n",
    "    v = sys.float_info.max\n",
    "    i_s = i\n",
    "    model_s = copy.deepcopy(model)\n",
    "    \n",
    "    while j < p :\n",
    "        model = Train_model(model, train_data, optimizer, 1, print_loss = False, plot_graph=False)\n",
    "#         model = Train_model(model, lr, 1, print_loss = False, plot_graph=False)\n",
    "        \n",
    "        acc = 0\n",
    "        for step, (batch_x, batch_y) in enumerate(val_data, 1):\n",
    "            pred = model(batch_x, is_training=False)\n",
    "            acc += accuracy(pred, batch_y)\n",
    "            \n",
    "        acc = 100.*acc/step\n",
    "        error = 100.-acc\n",
    "        \n",
    "        i = i+1\n",
    "        print(\"epoch reached \", i, \"val_error = \", error.numpy(), \"/smallest_error = \", v)\n",
    "        temp_v = error.numpy()\n",
    "        el.append(i)\n",
    "        vll.append(error)\n",
    "        if temp_v < v:\n",
    "            j = 0\n",
    "            model_s = copy.deepcopy(model)\n",
    "            i_s = i\n",
    "            v = temp_v\n",
    "        else :\n",
    "            j = j+1\n",
    "            \n",
    "    plt.plot(el, vll)\n",
    "    print(\"best epoch = \", i_s)\n",
    "    return model_s, i_s"
   ]
  },
  {
   "cell_type": "markdown",
   "metadata": {},
   "source": [
    "## Classify IMDB Data with RNN"
   ]
  },
  {
   "cell_type": "code",
   "execution_count": 10,
   "metadata": {},
   "outputs": [],
   "source": [
    "class RNN(Model):\n",
    "    def __init__(self):\n",
    "        super(RNN, self).__init__()\n",
    "        self.embedding = layers.Embedding(top_words, 100)\n",
    "        self.rnn = layers.SimpleRNN(64)\n",
    "        self.out = layers.Dense(num_classes)\n",
    "        \n",
    "    def call(self, x, is_training=False):\n",
    "        x = self.embedding(x)\n",
    "        x = self.rnn(x)\n",
    "        x = self.out(x)\n",
    "        if not is_training:\n",
    "            x = tf.nn.softmax(x)\n",
    "        return x"
   ]
  },
  {
   "cell_type": "code",
   "execution_count": 13,
   "metadata": {},
   "outputs": [
    {
     "name": "stdout",
     "output_type": "stream",
     "text": [
      "epoch :  1 loss:  0.69185555\n",
      "epoch :  2 loss:  0.6644394\n",
      "epoch :  3 loss:  0.59561384\n",
      "epoch :  4 loss:  0.36953887\n",
      "epoch :  5 loss:  0.3084674\n"
     ]
    },
    {
     "data": {
      "image/png": "[encoded data removed]",
      "text/plain": [
       "<Figure size 432x288 with 1 Axes>"
      ]
     },
     "metadata": {
      "needs_background": "light"
     },
     "output_type": "display_data"
    }
   ],
   "source": [
    "rnn = RNN()\n",
    "optimizer = tf.optimizers.Adam(0.0001)\n",
    "rnn = Train_model(rnn, train_data, optimizer, 5)"
   ]
  },
  {
   "cell_type": "code",
   "execution_count": 14,
   "metadata": {},
   "outputs": [
    {
     "name": "stdout",
     "output_type": "stream",
     "text": [
      "81.048004\n"
     ]
    }
   ],
   "source": [
    "rnn_acc = accuracy_batch(rnn, test_data).numpy()\n",
    "print(rnn_acc)"
   ]
  },
  {
   "cell_type": "code",
   "execution_count": 15,
   "metadata": {},
   "outputs": [
    {
     "name": "stdout",
     "output_type": "stream",
     "text": [
      "76.23999\n",
      "83.74396\n"
     ]
    }
   ],
   "source": [
    "rnn_short_acc = accuracy_batch(rnn, test_data_short).numpy()\n",
    "print(rnn_short_acc)\n",
    "\n",
    "rnn_long_acc = accuracy_batch(rnn, test_data_long).numpy()\n",
    "print(rnn_long_acc)"
   ]
  },
  {
   "cell_type": "markdown",
   "metadata": {},
   "source": [
    "## Variation of RNN"
   ]
  },
  {
   "cell_type": "markdown",
   "metadata": {},
   "source": [
    "### LSTM"
   ]
  },
  {
   "cell_type": "code",
   "execution_count": 17,
   "metadata": {},
   "outputs": [],
   "source": [
    "class LSTM(Model):\n",
    "    def __init__(self):\n",
    "        super(LSTM, self).__init__()\n",
    "        self.embedding = layers.Embedding(top_words, 100)\n",
    "        self.lstm = layers.LSTM(64)\n",
    "        self.out = layers.Dense(num_classes)\n",
    "        \n",
    "    def call(self, x, is_training=False):\n",
    "        x = self.embedding(x)\n",
    "        x = self.lstm(x)\n",
    "        x = self.out(x)\n",
    "        if not is_training:\n",
    "            x = tf.nn.softmax(x)\n",
    "        return x"
   ]
  },
  {
   "cell_type": "code",
   "execution_count": 18,
   "metadata": {},
   "outputs": [
    {
     "name": "stdout",
     "output_type": "stream",
     "text": [
      "epoch :  1 loss:  0.68555564\n",
      "epoch :  2 loss:  0.47821274\n",
      "epoch :  3 loss:  0.41108775\n",
      "epoch :  4 loss:  0.38098305\n",
      "epoch :  5 loss:  0.305698\n"
     ]
    },
    {
     "data": {
      "image/png": "[encoded data removed]",
      "text/plain": [
       "<Figure size 432x288 with 1 Axes>"
      ]
     },
     "metadata": {
      "needs_background": "light"
     },
     "output_type": "display_data"
    }
   ],
   "source": [
    "lstm = LSTM()\n",
    "optimizer = tf.optimizers.Adam(0.0001)\n",
    "lstm = Train_model(lstm, train_data, optimizer, 5)"
   ]
  },
  {
   "cell_type": "code",
   "execution_count": 19,
   "metadata": {},
   "outputs": [
    {
     "name": "stdout",
     "output_type": "stream",
     "text": [
      "82.21198\n"
     ]
    }
   ],
   "source": [
    "lstm_acc = accuracy_batch(lstm, test_data).numpy()\n",
    "print(lstm_acc)"
   ]
  },
  {
   "cell_type": "code",
   "execution_count": 22,
   "metadata": {},
   "outputs": [
    {
     "name": "stdout",
     "output_type": "stream",
     "text": [
      "epoch :  1 loss:  0.6757204\n",
      "epoch :  2 loss:  0.40880778\n",
      "epoch :  3 loss:  0.30766973\n",
      "epoch :  4 loss:  0.27681676\n",
      "epoch :  5 loss:  0.17192389\n",
      "epoch :  6 loss:  0.25156602\n"
     ]
    },
    {
     "data": {
      "image/png": "[encoded data removed]",
      "text/plain": [
       "<Figure size 432x288 with 1 Axes>"
      ]
     },
     "metadata": {
      "needs_background": "light"
     },
     "output_type": "display_data"
    }
   ],
   "source": [
    "lstm_long = LSTM()\n",
    "optimizer = tf.optimizers.Adam(0.0001)\n",
    "lstm_long = Train_model(lstm_long, train_data_long, optimizer, 6)"
   ]
  },
  {
   "cell_type": "code",
   "execution_count": 23,
   "metadata": {},
   "outputs": [
    {
     "name": "stdout",
     "output_type": "stream",
     "text": [
      "85.483986\n"
     ]
    }
   ],
   "source": [
    "lstm_acc_long = accuracy_batch(lstm_long, test_data_long).numpy()\n",
    "print(lstm_acc_long)"
   ]
  },
  {
   "cell_type": "code",
   "execution_count": 24,
   "metadata": {},
   "outputs": [
    {
     "name": "stdout",
     "output_type": "stream",
     "text": [
      "epoch :  1 loss:  0.44824454\n",
      "epoch :  2 loss:  0.32238835\n",
      "epoch :  3 loss:  0.23428804\n",
      "epoch :  4 loss:  0.2407472\n"
     ]
    },
    {
     "data": {
      "image/png": "[encoded data removed]",
      "text/plain": [
       "<Figure size 432x288 with 1 Axes>"
      ]
     },
     "metadata": {
      "needs_background": "light"
     },
     "output_type": "display_data"
    }
   ],
   "source": [
    "rnn_long = RNN()\n",
    "rnn_long = Train_model(rnn_long, train_data_long, optimizer, 4)"
   ]
  },
  {
   "cell_type": "code",
   "execution_count": 25,
   "metadata": {},
   "outputs": [
    {
     "name": "stdout",
     "output_type": "stream",
     "text": [
      "84.99602\n"
     ]
    }
   ],
   "source": [
    "rnn_acc_long = accuracy_batch(rnn_long, test_data_long).numpy()\n",
    "print(rnn_acc_long)"
   ]
  },
  {
   "cell_type": "code",
   "execution_count": 37,
   "metadata": {},
   "outputs": [],
   "source": [
    "class Multi_LSTM(Model):\n",
    "    def __init__(self):\n",
    "        super(Multi_LSTM, self).__init__()\n",
    "        self.embedding = layers.Embedding(top_words, 100)\n",
    "        self.lstm1 = layers.LSTM(64, return_sequences=True)\n",
    "        self.lstm2 = layers.LSTM(64)\n",
    "        self.out = layers.Dense(num_classes)\n",
    "        \n",
    "    def call(self, x, is_training=False):\n",
    "#         print(x.shape)\n",
    "        x = self.embedding(x)\n",
    "#         print(x.shape)\n",
    "        x = self.lstm1(x)\n",
    "#         print(x.shape)\n",
    "        x = self.lstm2(x)\n",
    "#         print(x.shape)\n",
    "        x = self.out(x)\n",
    "#         print(x.shape)\n",
    "        if not is_training:\n",
    "            x = tf.nn.softmax(x)\n",
    "        return x"
   ]
  },
  {
   "cell_type": "code",
   "execution_count": 32,
   "metadata": {},
   "outputs": [
    {
     "name": "stdout",
     "output_type": "stream",
     "text": [
      "(200, 80)\n",
      "(200, 80, 100)\n",
      "(200, 80, 64)\n",
      "(200, 64)\n",
      "(200, 2)\n"
     ]
    }
   ],
   "source": [
    "model = LSTM()\n",
    "x = tf.ones((200, 80))\n",
    "\n",
    "out = model(x, is_training=False)"
   ]
  },
  {
   "cell_type": "code",
   "execution_count": 38,
   "metadata": {},
   "outputs": [
    {
     "name": "stdout",
     "output_type": "stream",
     "text": [
      "epoch :  1 loss:  0.4089341\n",
      "epoch :  2 loss:  0.28792018\n",
      "epoch :  3 loss:  0.23864248\n",
      "epoch :  4 loss:  0.19734667\n"
     ]
    },
    {
     "data": {
      "image/png": "[encoded data removed]",
      "text/plain": [
       "<Figure size 432x288 with 1 Axes>"
      ]
     },
     "metadata": {
      "needs_background": "light"
     },
     "output_type": "display_data"
    }
   ],
   "source": [
    "multi_lstm = Multi_LSTM()\n",
    "multi_lstm = Train_model(multi_lstm, train_data, optimizer, 4)"
   ]
  },
  {
   "cell_type": "code",
   "execution_count": 39,
   "metadata": {},
   "outputs": [
    {
     "name": "stdout",
     "output_type": "stream",
     "text": [
      "82.004\n"
     ]
    }
   ],
   "source": [
    "multi_lstm_acc = accuracy_batch(multi_lstm, test_data).numpy()\n",
    "print(multi_lstm_acc)"
   ]
  },
  {
   "cell_type": "markdown",
   "metadata": {},
   "source": [
    "## Bidirectional LSTM"
   ]
  },
  {
   "cell_type": "code",
   "execution_count": 42,
   "metadata": {},
   "outputs": [],
   "source": [
    "class BI_LSTM(Model):\n",
    "    def __init__(self):\n",
    "        super(BI_LSTM, self).__init__()\n",
    "        self.embedding = layers.Embedding(top_words, 100)\n",
    "        lstm_fw = layers.LSTM(64)\n",
    "        lstm_bw = layers.LSTM(64, go_backwards=True)\n",
    "        self.bi_lstm = layers.Bidirectional(lstm_fw, backward_layer=lstm_bw)\n",
    "        self.out = layers.Dense(num_classes)\n",
    "        \n",
    "    def call(self, x, is_training=False):\n",
    "        x = self.embedding(x)\n",
    "        x = self.bi_lstm(x)\n",
    "        x = self.out(x)\n",
    "        if not is_training:\n",
    "            x = tf.nn.softmax(x)\n",
    "        return x"
   ]
  },
  {
   "cell_type": "code",
   "execution_count": 43,
   "metadata": {},
   "outputs": [
    {
     "name": "stdout",
     "output_type": "stream",
     "text": [
      "epoch :  1 loss:  0.46103698\n",
      "epoch :  2 loss:  0.28605598\n",
      "epoch :  3 loss:  0.19772334\n",
      "epoch :  4 loss:  0.21495146\n"
     ]
    },
    {
     "data": {
      "image/png": "[encoded data removed]",
      "text/plain": [
       "<Figure size 432x288 with 1 Axes>"
      ]
     },
     "metadata": {
      "needs_background": "light"
     },
     "output_type": "display_data"
    }
   ],
   "source": [
    "bi_lstm = BI_LSTM()\n",
    "bi_lstm = Train_model(bi_lstm, train_data, optimizer, 4)"
   ]
  },
  {
   "cell_type": "code",
   "execution_count": 44,
   "metadata": {},
   "outputs": [
    {
     "name": "stdout",
     "output_type": "stream",
     "text": [
      "83.24401\n"
     ]
    }
   ],
   "source": [
    "bi_lstm_acc = accuracy_batch(bi_lstm, test_data).numpy()\n",
    "print(bi_lstm_acc)"
   ]
  }
 ],
 "metadata": {
  "kernelspec": {
   "display_name": "Python 3",
   "language": "python",
   "name": "python3"
  },
  "language_info": {
   "codemirror_mode": {
    "name": "ipython",
    "version": 3
   },
   "file_extension": ".py",
   "mimetype": "text/x-python",
   "name": "python",
   "nbconvert_exporter": "python",
   "pygments_lexer": "ipython3",
   "version": "3.7.6"
  },
  "toc": {
   "base_numbering": 1,
   "nav_menu": {},
   "number_sections": true,
   "sideBar": true,
   "skip_h1_title": false,
   "title_cell": "Table of Contents",
   "title_sidebar": "Contents",
   "toc_cell": false,
   "toc_position": {},
   "toc_section_display": true,
   "toc_window_display": false
  },
  "varInspector": {
   "cols": {
    "lenName": 16,
    "lenType": 16,
    "lenVar": 40
   },
   "kernels_config": {
    "python": {
     "delete_cmd_postfix": "",
     "delete_cmd_prefix": "del ",
     "library": "var_list.py",
     "varRefreshCmd": "print(var_dic_list())"
    },
    "r": {
     "delete_cmd_postfix": ") ",
     "delete_cmd_prefix": "rm(",
     "library": "var_list.r",
     "varRefreshCmd": "cat(var_dic_list()) "
    }
   },
   "types_to_exclude": [
    "module",
    "function",
    "builtin_function_or_method",
    "instance",
    "_Feature"
   ],
   "window_display": false
  }
 },
 "nbformat": 4,
 "nbformat_minor": 4
}
